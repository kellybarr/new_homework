{
 "cells": [
  {
   "cell_type": "markdown",
   "metadata": {},
   "source": [
    "## Manipulating canids file here.  Working with bats later"
   ]
  },
  {
   "cell_type": "code",
   "execution_count": 25,
   "metadata": {
    "collapsed": false
   },
   "outputs": [
    {
     "data": {
      "text/plain": [
       "['\"117266\",\"occ\",\"\",\"\",\"9070\",\"Cynodictis lacustris\",\"species\",\"349281\",\"Late Eocene\",\"\",\"37.2\",\"33.9\",\"11154\"\\n']"
      ]
     },
     "execution_count": 25,
     "metadata": {},
     "output_type": "execute_result"
    }
   ],
   "source": [
    "file = open(\"canids.csv\")\n",
    "#for class\n",
    "canids = file.readlines()\n",
    "file.close()\n",
    "canids[0:1]\n"
   ]
  },
  {
   "cell_type": "code",
   "execution_count": 30,
   "metadata": {
    "collapsed": false
   },
   "outputs": [],
   "source": [
    "from collections import defaultdict\n",
    "species_ranges = defaultdict(list)\n",
    "for line in canids:\n",
    "    if line.split('\",\"')[6] == \"species\":\n",
    "        species = line.split('\",\"')[5]\n",
    "        maxage = line.split('\",\"')[10]\n",
    "        minage = line.split('\",\"')[11]\n",
    "        mean_age = (float(minage) + float(maxage)/2)\n",
    "        species_ranges[species].append(mean_age)\n"
   ]
  },
  {
   "cell_type": "code",
   "execution_count": 46,
   "metadata": {
    "collapsed": false
   },
   "outputs": [
    {
     "data": {
      "text/plain": [
       "'Protepicyon,raki,21.585,21.585\\n'"
      ]
     },
     "execution_count": 46,
     "metadata": {},
     "output_type": "execute_result"
    }
   ],
   "source": [
    "output = open(\"canid-ranges.csv\",\"w\")\n",
    "for key in species_ranges:\n",
    "    ages = species_ranges[key]\n",
    "    minage = min(ages)\n",
    "    maxage = max(ages)\n",
    "    genus = key.split()[0]\n",
    "    species = key.split()[1]\n",
    "    outline = \"{},{},{},{}\\n\".format(genus,species,minage,maxage)\n",
    "    output.write(outline)\n",
    "output.close()\n",
    "outline\n",
    "\n"
   ]
  },
  {
   "cell_type": "code",
   "execution_count": 38,
   "metadata": {
    "collapsed": false
   },
   "outputs": [
    {
     "data": {
      "text/plain": [
       "'species'"
      ]
     },
     "execution_count": 38,
     "metadata": {},
     "output_type": "execute_result"
    }
   ],
   "source": [
    "dummy = [\"genus species\"]\n",
    "for line in dummy:\n",
    "    genus = line.split()[1]\n",
    "genus"
   ]
  },
  {
   "cell_type": "code",
   "execution_count": 24,
   "metadata": {
    "collapsed": false
   },
   "outputs": [],
   "source": [
    "#this sorts by alpha\n",
    "#sorted(species_ranges)"
   ]
  },
  {
   "cell_type": "code",
   "execution_count": 21,
   "metadata": {
    "collapsed": false
   },
   "outputs": [
    {
     "data": {
      "text/plain": [
       "'Gobicyon,Gobicyon,18.6365,19.63\\n'"
      ]
     },
     "execution_count": 21,
     "metadata": {},
     "output_type": "execute_result"
    }
   ],
   "source": [
    "output = open(\"canid-ranges.csv\")\n",
    "\n",
    "\n"
   ]
  },
  {
   "cell_type": "markdown",
   "metadata": {},
   "source": [
    "## This function splits the datafile into a dictionary with full scientific names and dates"
   ]
  },
  {
   "cell_type": "code",
   "execution_count": 47,
   "metadata": {
    "collapsed": false
   },
   "outputs": [],
   "source": [
    "\n",
    "def fossil_dict(input_filename):\n",
    "    file = open(input_filename)\n",
    "    data = file.readlines()\n",
    "    file.close()\n",
    "    from collections import defaultdict\n",
    "    species_ranges = defaultdict(list)\n",
    "    for line in data:\n",
    "        if line.split('\",\"')[6] == \"species\":\n",
    "            species = line.split('\",\"')[5]\n",
    "            maxage = line.split('\",\"')[10]\n",
    "            minage = line.split('\",\"')[11]\n",
    "            mean_age = (float(minage) + float(maxage)/2)\n",
    "            species_ranges[species].append(mean_age)\n",
    "    return(species_ranges)\n"
   ]
  },
  {
   "cell_type": "code",
   "execution_count": 50,
   "metadata": {
    "collapsed": false
   },
   "outputs": [],
   "source": [
    "canids2 = fossil_dict(\"canids.csv\")\n",
    "\n",
    "\n",
    "    "
   ]
  },
  {
   "cell_type": "markdown",
   "metadata": {},
   "source": [
    "## this function outputs genus, species, min, max"
   ]
  },
  {
   "cell_type": "code",
   "execution_count": 61,
   "metadata": {
    "collapsed": true
   },
   "outputs": [],
   "source": [
    "def minmax_fossil(in_dict,outfile):\n",
    "    output = open(outfile,'w')\n",
    "    for key in in_dict:\n",
    "        ages = in_dict[key]\n",
    "        minage = min(ages)\n",
    "        maxage = max(ages)\n",
    "        genus = key.split()[0]\n",
    "        species = key.split()[1]\n",
    "        outline = \"{},{},{},{}\\n\".format(genus,species,minage,maxage)\n",
    "        output.write(outline)\n",
    "    output.close()\n",
    "\n",
    "    "
   ]
  },
  {
   "cell_type": "code",
   "execution_count": 62,
   "metadata": {
    "collapsed": false
   },
   "outputs": [],
   "source": [
    "minmax_fossil(canids2,\"canids_fossils.csv\")"
   ]
  },
  {
   "cell_type": "code",
   "execution_count": 53,
   "metadata": {
    "collapsed": true
   },
   "outputs": [],
   "source": [
    "def longest_range(fossil_dict):\n",
    "    species_ages = {}\n",
    "    age_range = []\n",
    "    for k in fossil_dict:\n",
    "        age_range = abs(float(max(fossil_dict[k])) - float(min(fossil_dict[k])))\n",
    "        species_ages[k] = age_range\n",
    "    return(max(species_ages,key=species_ages.get))\n"
   ]
  },
  {
   "cell_type": "code",
   "execution_count": 63,
   "metadata": {
    "collapsed": false
   },
   "outputs": [
    {
     "data": {
      "text/plain": [
       "'Cormocyon copei'"
      ]
     },
     "execution_count": 63,
     "metadata": {},
     "output_type": "execute_result"
    }
   ],
   "source": [
    "longest_range(canids2)"
   ]
  },
  {
   "cell_type": "code",
   "execution_count": 136,
   "metadata": {
    "collapsed": false
   },
   "outputs": [],
   "source": [
    "\n",
    "\n"
   ]
  },
  {
   "cell_type": "code",
   "execution_count": null,
   "metadata": {
    "collapsed": false
   },
   "outputs": [],
   "source": []
  },
  {
   "cell_type": "markdown",
   "metadata": {
    "collapsed": true
   },
   "source": [
    "## Time for some bats\n"
   ]
  },
  {
   "cell_type": "code",
   "execution_count": 59,
   "metadata": {
    "collapsed": false
   },
   "outputs": [
    {
     "data": {
      "text/plain": [
       "'Rhinolophus grivensis'"
      ]
     },
     "execution_count": 59,
     "metadata": {},
     "output_type": "execute_result"
    }
   ],
   "source": [
    "bats = fossil_dict(\"bats.csv\")\n",
    "longest_range(bats)"
   ]
  },
  {
   "cell_type": "code",
   "execution_count": 64,
   "metadata": {
    "collapsed": true
   },
   "outputs": [],
   "source": [
    "minmax_fossil(bats,\"bats_output.csv\")"
   ]
  }
 ],
 "metadata": {
  "anaconda-cloud": {},
  "kernelspec": {
   "display_name": "Python [default]",
   "language": "python",
   "name": "python3"
  },
  "language_info": {
   "codemirror_mode": {
    "name": "ipython",
    "version": 3
   },
   "file_extension": ".py",
   "mimetype": "text/x-python",
   "name": "python",
   "nbconvert_exporter": "python",
   "pygments_lexer": "ipython3",
   "version": "3.5.2"
  }
 },
 "nbformat": 4,
 "nbformat_minor": 2
}
